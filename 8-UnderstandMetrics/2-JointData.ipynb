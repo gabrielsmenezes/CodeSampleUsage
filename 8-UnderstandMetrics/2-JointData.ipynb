{
 "cells": [
  {
   "cell_type": "code",
   "execution_count": 5,
   "id": "f600fe40",
   "metadata": {},
   "outputs": [],
   "source": [
    "import pandas as pd"
   ]
  },
  {
   "cell_type": "code",
   "execution_count": 6,
   "id": "911f6167",
   "metadata": {},
   "outputs": [],
   "source": [
    "samples = pd.read_csv(\"../5-RepoFilter/output.csv\", index_col=0)"
   ]
  },
  {
   "cell_type": "code",
   "execution_count": 7,
   "id": "ded27149",
   "metadata": {},
   "outputs": [
    {
     "name": "stdout",
     "output_type": "stream",
     "text": [
      "===== FileNotFoundError of Kuloud/Permission===== \n",
      "===== FileNotFoundError of ZackLee/CameraPreviewInFloatview===== \n"
     ]
    }
   ],
   "source": [
    "output = pd.DataFrame()\n",
    "for index in samples.index:\n",
    "    line = samples.loc[index]\n",
    "    repo = line[\"watcher_repo\"]\n",
    "    \n",
    "    try:\n",
    "         understand = pd.read_csv(f\"metrics/{repo}.csv\")\n",
    "    except FileNotFoundError as e:\n",
    "        print(f\"===== FileNotFoundError of {repo}===== \")\n",
    "        samples.drop(index, inplace=True)\n",
    "        continue \n",
    "        \n",
    "    \n",
    "    \n",
    "    pmd = pd.read_csv(f\"../4-RunPMD/{index}.csv\")\n",
    "    _sum = pmd.sum()\n",
    "    _mean = pmd.mean(numeric_only=True)    \n",
    "    \n",
    "    understand = understand.sum(axis=0, skipna=True)\n",
    "    understand = understand.rename(index)\n",
    "    understand[\"framework\"] = line[\"framework\"]\n",
    "    understand[\"sample\"] = line[\"sample\"]\n",
    "    understand[\"watcher\"] = line[\"watcher\"]\n",
    "    understand[\"watcher_repo\"] = line[\"watcher_repo\"]\n",
    "    del understand[\"level\"]\n",
    "    \n",
    "    understand[\"total_duplicated_lines\"] = _sum[\"lines\"]\n",
    "    understand[\"total_occurrences\"] = _sum[\"occurrences\"]\n",
    "    understand[\"mean_duplicated_lines\"] = _mean[\"lines\"]\n",
    "    understand[\"occurrences_mean\"] = _mean[\"occurrences\"]\n",
    "    \n",
    "    output = output.append(understand)"
   ]
  },
  {
   "cell_type": "code",
   "execution_count": 8,
   "id": "3fd66935",
   "metadata": {},
   "outputs": [],
   "source": [
    "output.to_csv(\"output.csv\")"
   ]
  }
 ],
 "metadata": {
  "kernelspec": {
   "display_name": "Python 3 (ipykernel)",
   "language": "python",
   "name": "python3"
  },
  "language_info": {
   "codemirror_mode": {
    "name": "ipython",
    "version": 3
   },
   "file_extension": ".py",
   "mimetype": "text/x-python",
   "name": "python",
   "nbconvert_exporter": "python",
   "pygments_lexer": "ipython3",
   "version": "3.9.7"
  }
 },
 "nbformat": 4,
 "nbformat_minor": 5
}
